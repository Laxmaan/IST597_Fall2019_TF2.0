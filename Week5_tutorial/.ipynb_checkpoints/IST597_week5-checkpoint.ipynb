{
 "cells": [
  {
   "cell_type": "markdown",
   "metadata": {
    "colab_type": "text",
    "id": "71kdFp0QgF4K"
   },
   "source": [
    "# IST597:- Multi-Layer Perceptron"
   ]
  },
  {
   "cell_type": "markdown",
   "metadata": {
    "colab_type": "text",
    "id": "C2yHcl5xgPV1"
   },
   "source": [
    "## Load the libraries"
   ]
  },
  {
   "cell_type": "code",
   "execution_count": 36,
   "metadata": {
    "colab": {
     "base_uri": "https://localhost:8080/",
     "height": 35
    },
    "colab_type": "code",
    "id": "2DPwxLR2gSLC",
    "outputId": "7ad9ff75-dffe-496c-cabf-9516e7e28b20"
   },
   "outputs": [
    {
     "data": {
      "text/plain": [
       "True"
      ]
     },
     "execution_count": 36,
     "metadata": {
      "tags": []
     },
     "output_type": "execute_result"
    }
   ],
   "source": [
    "import os\n",
    "import numpy as np\n",
    "import time\n",
    "import tensorflow as tf\n",
    "import tensorflow.contrib.eager as tfe\n",
    "tf.enable_eager_execution()\n",
    "tf.executing_eagerly()"
   ]
  },
  {
   "cell_type": "code",
   "execution_count": 37,
   "metadata": {
    "colab": {
     "base_uri": "https://localhost:8080/",
     "height": 35
    },
    "colab_type": "code",
    "id": "wV-3kEaggcO8",
    "outputId": "7c2b64c9-df58-48f0-fc29-78918690696c"
   },
   "outputs": [
    {
     "data": {
      "text/plain": [
       "1"
      ]
     },
     "execution_count": 37,
     "metadata": {
      "tags": []
     },
     "output_type": "execute_result"
    }
   ],
   "source": [
    "tfe.num_gpus()"
   ]
  },
  {
   "cell_type": "markdown",
   "metadata": {
    "colab_type": "text",
    "id": "iw78jw6pDqSM"
   },
   "source": [
    "#Get number of Gpu's in the system or else you can also use Nvidia-smi in command prompt"
   ]
  },
  {
   "cell_type": "markdown",
   "metadata": {
    "colab_type": "text",
    "id": "7Dk_S2TMg_6_"
   },
   "source": [
    "## Generate random data"
   ]
  },
  {
   "cell_type": "code",
   "execution_count": 0,
   "metadata": {
    "colab": {},
    "colab_type": "code",
    "id": "40XlFnwho7D8"
   },
   "outputs": [],
   "source": [
    "size_input = 32\n",
    "size_hidden = 128\n",
    "size_output = 1\n",
    "number_of_train_examples = 1000\n",
    "number_of_test_examples = 300"
   ]
  },
  {
   "cell_type": "code",
   "execution_count": 0,
   "metadata": {
    "colab": {},
    "colab_type": "code",
    "id": "qm23CzRihaW0"
   },
   "outputs": [],
   "source": [
    "X_train = np.random.randn(number_of_train_examples , size_input)\n",
    "y_train = np.random.randn(number_of_train_examples)\n",
    "X_test = np.random.randn(number_of_test_examples, size_input)\n",
    "y_test = np.random.randn(number_of_test_examples)"
   ]
  },
  {
   "cell_type": "code",
   "execution_count": 0,
   "metadata": {
    "colab": {},
    "colab_type": "code",
    "id": "aigqKFFF5BM2"
   },
   "outputs": [],
   "source": [
    "# Split dataset into batches\n",
    "#train_ds = tf.data.Dataset.from_tensor_slices((X_train, y_train)).batch(16)\n",
    "test_ds = tf.data.Dataset.from_tensor_slices((X_test, y_test)).batch(4)"
   ]
  },
  {
   "cell_type": "markdown",
   "metadata": {
    "colab_type": "text",
    "id": "Eb4hOoVbnzSJ"
   },
   "source": [
    "## Build MLP using Eager Execution"
   ]
  },
  {
   "cell_type": "code",
   "execution_count": 0,
   "metadata": {
    "colab": {},
    "colab_type": "code",
    "id": "Ht9_qpYipgHw"
   },
   "outputs": [],
   "source": [
    "# Define class to build mlp model\n",
    "class MLP(object):\n",
    "  def __init__(self, size_input, size_hidden, size_output, device=None):\n",
    "    \"\"\"\n",
    "    size_input: int, size of input layer\n",
    "    size_hidden: int, size of hidden layer\n",
    "    size_output: int, size of output layer\n",
    "    device: str or None, either 'cpu' or 'gpu' or None. If None, the device to be used will be decided automatically during Eager Execution\n",
    "    \"\"\"\n",
    "    self.size_input, self.size_hidden, self.size_output, self.device =\\\n",
    "    size_input, size_hidden, size_output, device\n",
    "    \n",
    "    # Initialize weights between input layer and hidden layer\n",
    "    self.W1 = tfe.Variable(tf.random_normal([self.size_input, self.size_hidden]))\n",
    "    # Initialize biases for hidden layer\n",
    "    self.b1 = tfe.Variable(tf.random_normal([1, self.size_hidden]))\n",
    "     # Initialize weights between hidden layer and output layer\n",
    "    self.W2 = tfe.Variable(tf.random_normal([self.size_hidden, self.size_output]))\n",
    "    # Initialize biases for output layer\n",
    "    self.b2 = tfe.Variable(tf.random_normal([1, self.size_output]))\n",
    "    \n",
    "    # Define variables to be updated during backpropagation\n",
    "    self.variables = [self.W1, self.W2, self.b1, self.b2]\n",
    "    \n",
    "  def forward(self, X):\n",
    "    \"\"\"\n",
    "    forward pass\n",
    "    X: Tensor, inputs\n",
    "    \"\"\"\n",
    "    if self.device is not None:\n",
    "      with tf.device('gpu:0' if self.device=='gpu' else 'cpu'):\n",
    "        self.y = self.compute_output(X)\n",
    "    else:\n",
    "      self.y = self.compute_output(X)\n",
    "      \n",
    "    return self.y\n",
    "  \n",
    "  def loss(self, y_pred, y_true):\n",
    "    '''\n",
    "    y_pred - Tensor of shape (batch_size, size_output)\n",
    "    y_true - Tensor of shape (batch_size, size_output)\n",
    "    '''\n",
    "    y_true_tf = tf.cast(tf.reshape(y_true, (-1, self.size_output)), dtype=tf.float32)\n",
    "    y_pred_tf = tf.cast(y_pred, dtype=tf.float32)\n",
    "    return tf.losses.mean_squared_error(y_true_tf, y_pred_tf)\n",
    "  \n",
    "  def backward(self, X_train, y_train):\n",
    "    \"\"\"\n",
    "    backward pass\n",
    "    \"\"\"\n",
    "    optimizer = tf.train.GradientDescentOptimizer(learning_rate=1e-4)\n",
    "    with tf.GradientTape() as tape:\n",
    "      predicted = self.forward(X_train)\n",
    "      current_loss = self.loss(predicted, y_train)\n",
    "    grads = tape.gradient(current_loss, self.variables)\n",
    "    optimizer.apply_gradients(zip(grads, self.variables),\n",
    "                              global_step=tf.train.get_or_create_global_step())\n",
    "        \n",
    "        \n",
    "  def compute_output(self, X):\n",
    "    \"\"\"\n",
    "    Custom method to obtain output tensor during forward pass\n",
    "    \"\"\"\n",
    "    # Cast X to float32\n",
    "    X_tf = tf.cast(X, dtype=tf.float32)\n",
    "    #Remember to normalize your dataset before moving forward\n",
    "    # Compute values in hidden layer\n",
    "    what = tf.matmul(X_tf, self.W1) + self.b1\n",
    "    hhat = tf.nn.relu(what)\n",
    "    # Compute output\n",
    "    output = tf.matmul(hhat, self.W2) + self.b2\n",
    "    #Now consider two things , First look at inbuild loss functions if they work with softmax or not and then change this\n",
    "    #Second add tf.Softmax(output) and then return this variable\n",
    "    return output"
   ]
  },
  {
   "cell_type": "markdown",
   "metadata": {
    "colab_type": "text",
    "id": "cUDFOuNk618X"
   },
   "source": [
    "## Train Model"
   ]
  },
  {
   "cell_type": "code",
   "execution_count": 0,
   "metadata": {
    "colab": {},
    "colab_type": "code",
    "id": "FZPVUu0YDa-_"
   },
   "outputs": [],
   "source": [
    "# Set number of epochs\n",
    "NUM_EPOCHS = 10"
   ]
  },
  {
   "cell_type": "code",
   "execution_count": 43,
   "metadata": {
    "colab": {
     "base_uri": "https://localhost:8080/",
     "height": 233
    },
    "colab_type": "code",
    "id": "moAeRMJ56kr6",
    "outputId": "29d89780-2a40-4f1a-a03a-2dd5ce0631ff"
   },
   "outputs": [
    {
     "name": "stdout",
     "output_type": "stream",
     "text": [
      "Number of Epoch = 1 - Average MSE:= 41.8356\n",
      "Number of Epoch = 2 - Average MSE:= 17.2803\n",
      "Number of Epoch = 3 - Average MSE:= 12.0315\n",
      "Number of Epoch = 4 - Average MSE:= 10.0232\n",
      "Number of Epoch = 5 - Average MSE:= 8.9033\n",
      "Number of Epoch = 6 - Average MSE:= 8.0859\n",
      "Number of Epoch = 7 - Average MSE:= 7.4388\n",
      "Number of Epoch = 8 - Average MSE:= 6.8912\n",
      "Number of Epoch = 9 - Average MSE:= 6.3923\n",
      "Number of Epoch = 10 - Average MSE:= 5.9651\n",
      "\n",
      "Total time taken (in seconds): 6.86\n"
     ]
    }
   ],
   "source": [
    "# Initialize model using CPU\n",
    "mlp_on_cpu = MLP(size_input, size_hidden, size_output, device='cpu')\n",
    "\n",
    "time_start = time.time()\n",
    "for epoch in range(NUM_EPOCHS):\n",
    "  loss_total = tfe.Variable(0, dtype=tf.float32)\n",
    "  train_ds = tf.data.Dataset.from_tensor_slices((X_train, y_train)).shuffle(25, seed=epoch*(1234)).batch(20)\n",
    "  for inputs, outputs in train_ds:\n",
    "    preds = mlp_on_cpu.forward(inputs)\n",
    "    loss_total = loss_total + mlp_on_cpu.loss(preds, outputs)\n",
    "    mlp_on_cpu.backward(inputs, outputs)\n",
    "  print('Number of Epoch = {} - Average MSE:= {:.4f}'.format(epoch + 1, loss_total.numpy() / X_train.shape[0]))\n",
    "time_taken = time.time() - time_start\n",
    "\n",
    "print('\\nTotal time taken (in seconds): {:.2f}'.format(time_taken))\n",
    "#For per epoch_time = Total_Time / Number_of_epochs"
   ]
  },
  {
   "cell_type": "code",
   "execution_count": 44,
   "metadata": {
    "colab": {
     "base_uri": "https://localhost:8080/",
     "height": 233
    },
    "colab_type": "code",
    "id": "SdMFAuH18Ve0",
    "outputId": "11a79ec3-d56e-466b-efad-678a7fc18018"
   },
   "outputs": [
    {
     "name": "stdout",
     "output_type": "stream",
     "text": [
      "Number of Epoch = 1 - Average MSE:= 54.9124\n",
      "Number of Epoch = 2 - Average MSE:= 24.0984\n",
      "Number of Epoch = 3 - Average MSE:= 16.7387\n",
      "Number of Epoch = 4 - Average MSE:= 13.9170\n",
      "Number of Epoch = 5 - Average MSE:= 12.2832\n",
      "Number of Epoch = 6 - Average MSE:= 11.1466\n",
      "Number of Epoch = 7 - Average MSE:= 10.2290\n",
      "Number of Epoch = 8 - Average MSE:= 9.4253\n",
      "Number of Epoch = 9 - Average MSE:= 8.7257\n",
      "Number of Epoch = 10 - Average MSE:= 8.1264\n",
      "\n",
      "Total time taken (in seconds): 5.51\n"
     ]
    }
   ],
   "source": [
    "# Initialize model using GPU\n",
    "mlp_on_gpu = MLP(size_input, size_hidden, size_output, device='gpu')\n",
    "\n",
    "time_start = time.time()\n",
    "for epoch in range(NUM_EPOCHS):\n",
    "  loss_total = tfe.Variable(0, dtype=tf.float32)\n",
    "  train_ds = tf.data.Dataset.from_tensor_slices((X_train, y_train)).shuffle(25, seed=(epoch*1234)).batch(20)\n",
    "  for inputs, outputs in train_ds:\n",
    "    preds = mlp_on_gpu.forward(inputs)\n",
    "    loss_total = loss_total + mlp_on_gpu.loss(preds, outputs)\n",
    "    mlp_on_gpu.backward(inputs, outputs)\n",
    "  print('Number of Epoch = {} - Average MSE:= {:.4f}'.format(epoch + 1, loss_total.numpy() / X_train.shape[0]))  \n",
    "time_taken = time.time() - time_start\n",
    "\n",
    "print('\\nTotal time taken (in seconds): {:.2f}'.format(time_taken))"
   ]
  },
  {
   "cell_type": "code",
   "execution_count": 45,
   "metadata": {
    "colab": {
     "base_uri": "https://localhost:8080/",
     "height": 233
    },
    "colab_type": "code",
    "id": "xI4lsqPhB6Xi",
    "outputId": "a1a32482-7244-4fcf-e532-8586955f0644"
   },
   "outputs": [
    {
     "name": "stdout",
     "output_type": "stream",
     "text": [
      "Epoch 1 - Average MSE: 41.2676\n",
      "Epoch 2 - Average MSE: 19.7190\n",
      "Epoch 3 - Average MSE: 14.6194\n",
      "Epoch 4 - Average MSE: 12.3656\n",
      "Epoch 5 - Average MSE: 10.9466\n",
      "Epoch 6 - Average MSE: 9.9415\n",
      "Epoch 7 - Average MSE: 9.1411\n",
      "Epoch 8 - Average MSE: 8.4033\n",
      "Epoch 9 - Average MSE: 7.7717\n",
      "Epoch 10 - Average MSE: 7.2243\n",
      "\n",
      "Total time taken for training (seconds): 5.46\n"
     ]
    }
   ],
   "source": [
    "#Default mode\n",
    "mlp_on_default = MLP(size_input, size_hidden, size_output)\n",
    "\n",
    "time_start = time.time()\n",
    "for epoch in range(NUM_EPOCHS):\n",
    "  loss_total = tfe.Variable(0, dtype=tf.float32)\n",
    "  train_ds = tf.data.Dataset.from_tensor_slices((X_train, y_train)).shuffle(25, seed=(epoch*1234)).batch(20)\n",
    "  for inputs, outputs in train_ds:\n",
    "    preds = mlp_on_default.forward(inputs)\n",
    "    loss_total = loss_total + mlp_on_default.loss(preds, outputs)\n",
    "    mlp_on_default.backward(inputs, outputs)\n",
    "  print('Epoch {} - Average MSE: {:.4f}'.format(epoch + 1, loss_total.numpy() / X_train.shape[0]))\n",
    "time_taken = time.time() - time_start\n",
    "\n",
    "print('\\nTotal time taken(seconds): {:.2f}'.format(time_taken))"
   ]
  },
  {
   "cell_type": "markdown",
   "metadata": {
    "colab_type": "text",
    "id": "PXe-2MENCOjq"
   },
   "source": [
    "## One Step Inference"
   ]
  },
  {
   "cell_type": "code",
   "execution_count": 46,
   "metadata": {
    "colab": {
     "base_uri": "https://localhost:8080/",
     "height": 35
    },
    "colab_type": "code",
    "id": "EKxWn7CNDVN5",
    "outputId": "5823707e-e1e8-443b-a2c7-47fb3cc49f09"
   },
   "outputs": [
    {
     "name": "stdout",
     "output_type": "stream",
     "text": [
      "Test MSE: 16.3869\n"
     ]
    }
   ],
   "source": [
    "test_loss_total = tfe.Variable(0, dtype=tf.float32)\n",
    "for inputs, outputs in test_ds:\n",
    "  preds = mlp_on_default.forward(inputs)\n",
    "  test_loss_total = test_loss_total + mlp_on_default.loss(preds, outputs)\n",
    "print('Test MSE: {:.4f}'.format(test_loss_total.numpy() / X_train.shape[0]))"
   ]
  }
 ],
 "metadata": {
  "accelerator": "GPU",
  "colab": {
   "collapsed_sections": [],
   "name": "IST597_week5.ipynb",
   "provenance": []
  },
  "kernelspec": {
   "display_name": "Python 3",
   "language": "python",
   "name": "python3"
  },
  "language_info": {
   "codemirror_mode": {
    "name": "ipython",
    "version": 3
   },
   "file_extension": ".py",
   "mimetype": "text/x-python",
   "name": "python",
   "nbconvert_exporter": "python",
   "pygments_lexer": "ipython3",
   "version": "3.7.4"
  }
 },
 "nbformat": 4,
 "nbformat_minor": 1
}
