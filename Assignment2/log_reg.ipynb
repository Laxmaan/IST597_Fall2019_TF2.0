{
 "cells": [
  {
   "cell_type": "code",
   "execution_count": 1,
   "metadata": {},
   "outputs": [],
   "source": [
    "import os\n",
    "os.environ['TF_CPP_MIN_LOG_LEVEL']='3'\n",
    "\n",
    "import numpy as np\n",
    "import tensorflow as tf\n",
    "import time\n",
    "import matplotlib.pyplot as plt\n",
    "from sklearn.metrics import confusion_matrix\n",
    "import tensorflow_datasets as tfds\n",
    "\n",
    "import utils\n",
    "from fashion_mnist.utils.mnist_reader import load_mnist\n",
    "tf.executing_eagerly()\n",
    "\n",
    "from sklearn.model_selection import train_test_split\n",
    "\n",
    "random_seed=917326388\n",
    "\n",
    "tf.random.set_seed(random_seed)\n",
    "img_shape=(28,28)"
   ]
  },
  {
   "cell_type": "code",
   "execution_count": 4,
   "metadata": {},
   "outputs": [],
   "source": [
    "learning_rate = 7e-3\n",
    "batch_size = 256\n",
    "n_epochs = 100\n",
    "n_train = None\n",
    "n_test = None\n",
    "lamda = 0"
   ]
  },
  {
   "cell_type": "code",
   "execution_count": 5,
   "metadata": {},
   "outputs": [
    {
     "name": "stdout",
     "output_type": "stream",
     "text": [
      "(48000, 784) (48000,)\n",
      "(12000, 784) (12000,)\n",
      "(10000, 784) (10000,)\n"
     ]
    }
   ],
   "source": [
    "x_train,y_train = load_mnist(os.path.join(\"fashion_mnist\",\"data\",\"fashion\"),\"train\")\n",
    "x_train=x_train/255.0\n",
    "\n",
    "x_train, x_val, y_train, y_val = train_test_split(x_train, y_train, test_size=0.2, random_state=random_seed)\n",
    "\n",
    "\n",
    "print(x_train.shape,y_train.shape)\n",
    "n_train = x_train.shape[0]\n",
    "print(x_val.shape,y_val.shape)\n",
    "\n",
    "\n",
    "# create testing Dataset and batch it\n",
    "x_test,y_test = load_mnist(os.path.join(\"fashion_mnist\",\"data\",\"fashion\"),\"t10k\")\n",
    "x_test=x_test/255.0\n",
    "print(x_test.shape,y_test.shape)\n",
    "n_test = x_test.shape[0]"
   ]
  },
  {
   "cell_type": "code",
   "execution_count": 6,
   "metadata": {},
   "outputs": [],
   "source": [
    "#convert data to tf vars\n",
    "X_train = tf.Variable(x_train,dtype=tf.float32)\n",
    "X_val   = tf.Variable(x_val,dtype=tf.float32)\n",
    "X_test  = tf.Variable(x_test,dtype=tf.float32)\n",
    "\n",
    "Y_train = tf.one_hot(y_train,10)\n",
    "Y_val   = tf.one_hot(y_val,10)\n",
    "Y_test  = tf.one_hot(y_test,10)"
   ]
  },
  {
   "cell_type": "code",
   "execution_count": 119,
   "metadata": {},
   "outputs": [],
   "source": [
    "# Step 3: create weights and bias\n",
    "# w is initialized to random variables with mean of 0, stddev of 0.01\n",
    "# b is initialized to 0\n",
    "# shape of w depends on the dimension of X and Y so that Y = tf.matmul(X, w)\n",
    "# shape of b depends on Y\n",
    "W, b = tf.Variable(tf.random.normal([784,10],stddev=0.01)), tf.Variable(tf.zeros([10]))\n",
    "\n",
    "\n",
    "\n",
    "    "
   ]
  },
  {
   "cell_type": "code",
   "execution_count": 120,
   "metadata": {},
   "outputs": [],
   "source": [
    "# Step 4: build model\n",
    "# the model that returns the logits.\n",
    "# this logits will be later passed through softmax layer\n",
    "logits = None\n",
    "#############################\n",
    "########## TO DO ############\n",
    "#############################\n",
    "logits = tf.add(tf.matmul(X_train, W), b)\n"
   ]
  },
  {
   "cell_type": "code",
   "execution_count": 121,
   "metadata": {},
   "outputs": [],
   "source": [
    "# Step 5: define loss function\n",
    "# use cross entropy of softmax of logits as the loss function\n",
    "loss = None\n",
    "#############################\n",
    "########## TO DO ############\n",
    "#############################\n",
    "loss = tf.nn.softmax_cross_entropy_with_logits(logits = logits, labels = Y_train) "
   ]
  },
  {
   "cell_type": "code",
   "execution_count": 122,
   "metadata": {},
   "outputs": [],
   "source": [
    "# Step 6: define optimizer\n",
    "# using Adam Optimizer with pre-defined learning rate to minimize loss\n",
    "optimizer = None\n",
    "#############################\n",
    "########## TO DO ############\n",
    "#############################\n",
    "optimizer = tf.optimizers.Adam(learning_rate=learning_rate)\n"
   ]
  },
  {
   "cell_type": "code",
   "execution_count": 123,
   "metadata": {},
   "outputs": [],
   "source": [
    "# Step 7: calculate accuracy with test set\n",
    "preds = tf.nn.softmax(logits)\n",
    "correct_preds = tf.equal(tf.argmax(preds, 1), tf.argmax(Y_train, 1))\n",
    "accuracy = tf.reduce_mean(tf.cast(correct_preds, tf.float32))"
   ]
  },
  {
   "cell_type": "code",
   "execution_count": 124,
   "metadata": {},
   "outputs": [
    {
     "name": "stdout",
     "output_type": "stream",
     "text": [
      "tf.Tensor(0.16179167, shape=(), dtype=float32)\n"
     ]
    }
   ],
   "source": [
    "print(accuracy)"
   ]
  },
  {
   "cell_type": "code",
   "execution_count": 125,
   "metadata": {},
   "outputs": [
    {
     "name": "stdout",
     "output_type": "stream",
     "text": [
      "i=0, loss = 1.569969 acc=0.669354 val_acc=0.665750\n",
      "i=1, loss = 1.080519 acc=0.695708 val_acc=0.693500\n",
      "i=2, loss = 0.933873 acc=0.726104 val_acc=0.721417\n",
      "i=3, loss = 0.847853 acc=0.743792 val_acc=0.742250\n",
      "i=4, loss = 0.802139 acc=0.756104 val_acc=0.753167\n",
      "i=5, loss = 0.762098 acc=0.768500 val_acc=0.767667\n",
      "i=6, loss = 0.738511 acc=0.773875 val_acc=0.772583\n",
      "i=7, loss = 0.708325 acc=0.780750 val_acc=0.779750\n",
      "i=8, loss = 0.694252 acc=0.787313 val_acc=0.785417\n",
      "i=9, loss = 0.674854 acc=0.789333 val_acc=0.788583\n",
      "i=10, loss = 0.668111 acc=0.793854 val_acc=0.793250\n",
      "i=11, loss = 0.653560 acc=0.795958 val_acc=0.795667\n",
      "i=12, loss = 0.646044 acc=0.798854 val_acc=0.798500\n",
      "i=13, loss = 0.629525 acc=0.800083 val_acc=0.799917\n",
      "i=14, loss = 0.626162 acc=0.802792 val_acc=0.802667\n",
      "i=15, loss = 0.615858 acc=0.804646 val_acc=0.804417\n",
      "i=16, loss = 0.610577 acc=0.807688 val_acc=0.807833\n",
      "i=17, loss = 0.603452 acc=0.808229 val_acc=0.809333\n",
      "i=18, loss = 0.593090 acc=0.809625 val_acc=0.810500\n",
      "i=19, loss = 0.594387 acc=0.810375 val_acc=0.812417\n",
      "i=20, loss = 0.582947 acc=0.811604 val_acc=0.813000\n",
      "i=21, loss = 0.574365 acc=0.812021 val_acc=0.811917\n",
      "i=22, loss = 0.577535 acc=0.814250 val_acc=0.814917\n",
      "i=23, loss = 0.579239 acc=0.816417 val_acc=0.815667\n",
      "i=24, loss = 0.564452 acc=0.816896 val_acc=0.817750\n",
      "i=25, loss = 0.563082 acc=0.819292 val_acc=0.818417\n",
      "i=26, loss = 0.568263 acc=0.819583 val_acc=0.819000\n",
      "i=27, loss = 0.561022 acc=0.820646 val_acc=0.820000\n",
      "i=28, loss = 0.554202 acc=0.820542 val_acc=0.822083\n",
      "i=29, loss = 0.556682 acc=0.822062 val_acc=0.821250\n",
      "i=30, loss = 0.545660 acc=0.822375 val_acc=0.823583\n",
      "i=31, loss = 0.541992 acc=0.823417 val_acc=0.824833\n",
      "i=32, loss = 0.540508 acc=0.824125 val_acc=0.824833\n",
      "i=33, loss = 0.534964 acc=0.824625 val_acc=0.825750\n",
      "i=34, loss = 0.539647 acc=0.825063 val_acc=0.825167\n",
      "i=35, loss = 0.534426 acc=0.825417 val_acc=0.825583\n",
      "i=36, loss = 0.530217 acc=0.826354 val_acc=0.826667\n",
      "i=37, loss = 0.531722 acc=0.827167 val_acc=0.828167\n",
      "i=38, loss = 0.529564 acc=0.827187 val_acc=0.827167\n",
      "i=39, loss = 0.522466 acc=0.827542 val_acc=0.828250\n",
      "i=40, loss = 0.531861 acc=0.828625 val_acc=0.828500\n",
      "i=41, loss = 0.522919 acc=0.828875 val_acc=0.829000\n",
      "i=42, loss = 0.521395 acc=0.829083 val_acc=0.829667\n",
      "i=43, loss = 0.517621 acc=0.829687 val_acc=0.829417\n",
      "i=44, loss = 0.519801 acc=0.830146 val_acc=0.829833\n",
      "i=45, loss = 0.515374 acc=0.830667 val_acc=0.831667\n",
      "i=46, loss = 0.516716 acc=0.831125 val_acc=0.831917\n",
      "i=47, loss = 0.511285 acc=0.831104 val_acc=0.831250\n",
      "i=48, loss = 0.506016 acc=0.831979 val_acc=0.831417\n",
      "i=49, loss = 0.513599 acc=0.832333 val_acc=0.832333\n",
      "i=50, loss = 0.511384 acc=0.832438 val_acc=0.832833\n",
      "i=51, loss = 0.507437 acc=0.832500 val_acc=0.831750\n",
      "i=52, loss = 0.508991 acc=0.833604 val_acc=0.833500\n",
      "i=53, loss = 0.508237 acc=0.833750 val_acc=0.833500\n",
      "i=54, loss = 0.504371 acc=0.833958 val_acc=0.834167\n",
      "i=55, loss = 0.501372 acc=0.834354 val_acc=0.834500\n",
      "i=56, loss = 0.498200 acc=0.834667 val_acc=0.835083\n",
      "i=57, loss = 0.494400 acc=0.834875 val_acc=0.836250\n",
      "i=58, loss = 0.496390 acc=0.835167 val_acc=0.836417\n",
      "i=59, loss = 0.498172 acc=0.835729 val_acc=0.836500\n",
      "i=60, loss = 0.497131 acc=0.835729 val_acc=0.836167\n",
      "i=61, loss = 0.500585 acc=0.836083 val_acc=0.837000\n",
      "i=62, loss = 0.491786 acc=0.836458 val_acc=0.836333\n",
      "i=63, loss = 0.495900 acc=0.837167 val_acc=0.837417\n",
      "i=64, loss = 0.490731 acc=0.836375 val_acc=0.836500\n",
      "i=65, loss = 0.481993 acc=0.837458 val_acc=0.837833\n",
      "i=66, loss = 0.489409 acc=0.838063 val_acc=0.838333\n",
      "i=67, loss = 0.492342 acc=0.837958 val_acc=0.837500\n",
      "i=68, loss = 0.486363 acc=0.838146 val_acc=0.839167\n",
      "i=69, loss = 0.486248 acc=0.838333 val_acc=0.838833\n",
      "i=70, loss = 0.488461 acc=0.838646 val_acc=0.839667\n",
      "i=71, loss = 0.488026 acc=0.838313 val_acc=0.838917\n",
      "i=72, loss = 0.486437 acc=0.838812 val_acc=0.839500\n",
      "i=73, loss = 0.491148 acc=0.838938 val_acc=0.840667\n",
      "i=74, loss = 0.481016 acc=0.839271 val_acc=0.839667\n",
      "i=75, loss = 0.473590 acc=0.839188 val_acc=0.838750\n",
      "i=76, loss = 0.483926 acc=0.839958 val_acc=0.840583\n",
      "i=77, loss = 0.474491 acc=0.839771 val_acc=0.840417\n",
      "i=78, loss = 0.475058 acc=0.839896 val_acc=0.841333\n",
      "i=79, loss = 0.472333 acc=0.840312 val_acc=0.839667\n",
      "i=80, loss = 0.474993 acc=0.840437 val_acc=0.841083\n",
      "i=81, loss = 0.482728 acc=0.840917 val_acc=0.841000\n",
      "i=82, loss = 0.475761 acc=0.840813 val_acc=0.840917\n",
      "i=83, loss = 0.476040 acc=0.841521 val_acc=0.840667\n",
      "i=84, loss = 0.475623 acc=0.841708 val_acc=0.842167\n",
      "i=85, loss = 0.468043 acc=0.841229 val_acc=0.841500\n",
      "i=86, loss = 0.473889 acc=0.841479 val_acc=0.842333\n",
      "i=87, loss = 0.465528 acc=0.842313 val_acc=0.843083\n",
      "i=88, loss = 0.470159 acc=0.841833 val_acc=0.842417\n",
      "i=89, loss = 0.473797 acc=0.842438 val_acc=0.842167\n",
      "i=90, loss = 0.476121 acc=0.841500 val_acc=0.842000\n",
      "i=91, loss = 0.467549 acc=0.842646 val_acc=0.843000\n",
      "i=92, loss = 0.473414 acc=0.843125 val_acc=0.843500\n",
      "i=93, loss = 0.473493 acc=0.842917 val_acc=0.842250\n",
      "i=94, loss = 0.478499 acc=0.842979 val_acc=0.844000\n",
      "i=95, loss = 0.474774 acc=0.843271 val_acc=0.843167\n",
      "i=96, loss = 0.466393 acc=0.843437 val_acc=0.844000\n",
      "i=97, loss = 0.464236 acc=0.843354 val_acc=0.844083\n",
      "i=98, loss = 0.463586 acc=0.843917 val_acc=0.843417\n",
      "i=99, loss = 0.470339 acc=0.843938 val_acc=0.842833\n"
     ]
    }
   ],
   "source": [
    "#Step 8: train the model for n_epochs times\n",
    "train_accs=[]\n",
    "val_accs=[]\n",
    "for i in range(n_epochs):\n",
    "    total_loss = 0\n",
    "    n_batches = n_train//batch_size\n",
    "    #print(W)\n",
    "    for batch in range(n_batches):\n",
    "        indices = np.random.choice(n_train,batch_size)\n",
    "        X_batch = tf.Variable(x_train[indices],dtype=tf.float32)\n",
    "        Y_batch = tf.one_hot(y_train[indices],10)\n",
    "        #Optimize the loss function\n",
    "        \n",
    "        ################################\n",
    "        ###TO DO#####\n",
    "        ############\n",
    "\n",
    "        with tf.GradientTape() as tape:\n",
    "\n",
    "            #forward pass \n",
    "            logits = tf.matmul(X_batch, W)+ b\n",
    "            current_loss = tf.reduce_mean(tf.nn.softmax_cross_entropy_with_logits(logits = logits, labels = Y_batch))+0.5 * lamda * tf.reduce_sum(tf.square(W))\n",
    "\n",
    "          #evalute the gradient with the respect to the paramters\n",
    "            dW,db = tape.gradient(current_loss, [ W, b])\n",
    "            #print(dW)\n",
    "        W.assign_sub(dW * learning_rate)\n",
    "        b.assign_sub(db * learning_rate)\n",
    "        total_loss+=current_loss\n",
    "    \n",
    "    #train accuracy\n",
    "    logits=tf.matmul(X_train,W)+b\n",
    "    preds = tf.nn.softmax(logits)\n",
    "    correct_preds = tf.equal(tf.argmax(preds, 1), tf.argmax(Y_train, 1))\n",
    "    train_accuracy = tf.reduce_mean(tf.cast(correct_preds, tf.float32))\n",
    "    train_accs.append((i,train_accuracy.numpy()))\n",
    "    \n",
    "    #val accuracy\n",
    "    logits=tf.matmul(X_val,W)+b\n",
    "    preds = tf.nn.softmax(logits)\n",
    "    correct_preds = tf.equal(tf.argmax(preds, 1), tf.argmax(Y_val, 1))\n",
    "    val_accuracy = tf.reduce_mean(tf.cast(correct_preds, tf.float32))\n",
    "    val_accs.append((i,val_accuracy.numpy()))\n",
    "    \n",
    "    \n",
    "    \n",
    "    total_loss/=n_batches\n",
    "    print(f\"i={i}, loss = {total_loss:3f} acc={train_accuracy:5f} val_acc={val_accuracy:5f}\")\n",
    "    \n"
   ]
  },
  {
   "cell_type": "code",
   "execution_count": 126,
   "metadata": {},
   "outputs": [
    {
     "data": {
      "image/png": "[encoded data removed]",
      "text/plain": [
       "<Figure size 432x288 with 1 Axes>"
      ]
     },
     "metadata": {
      "needs_background": "light"
     },
     "output_type": "display_data"
    }
   ],
   "source": [
    "i,train=zip(*train_accs)\n",
    "plt.plot(i,train,label=\"train acc\")\n",
    "i,val=zip(*val_accs)\n",
    "plt.plot(i,val,label=\"val acc\")\n",
    "    \n",
    "    \n",
    "plt.legend()\n",
    "plt.show()"
   ]
  },
  {
   "cell_type": "code",
   "execution_count": 12,
   "metadata": {},
   "outputs": [
    {
     "name": "stdout",
     "output_type": "stream",
     "text": [
      "0.8304\n"
     ]
    }
   ],
   "source": [
    "\n",
    "preds = tf.nn.softmax(tf.matmul(X_test,W)+b)\n",
    "correct_preds = tf.equal(tf.argmax(preds, 1), tf.argmax(Y_test, 1))\n",
    "accuracy = tf.reduce_mean(tf.cast(correct_preds, tf.float32))\n",
    "print(accuracy.numpy())"
   ]
  },
  {
   "cell_type": "code",
   "execution_count": 17,
   "metadata": {},
   "outputs": [
    {
     "name": "stdout",
     "output_type": "stream",
     "text": [
      "5\n",
      "[5]\n"
     ]
    },
    {
     "data": {
      "image/png": "[encoded data removed]",
      "text/plain": [
       "<Figure size 432x288 with 1 Axes>"
      ]
     },
     "metadata": {
      "needs_background": "light"
     },
     "output_type": "display_data"
    }
   ],
   "source": [
    "k=9999\n",
    "\n",
    "plt.imshow(x_test[k].reshape(28,28))\n",
    "print(y_test[k])\n",
    "\n",
    "X_t1 = tf.Variable(x_test[k].reshape(1,-1),dtype=tf.float32)\n",
    "\n",
    "preds= tf.nn.softmax(tf.matmul(X_t1,W)+b)\n",
    "print(tf.argmax(preds,1).numpy())"
   ]
  },
  {
   "cell_type": "code",
   "execution_count": 29,
   "metadata": {},
   "outputs": [
    {
     "data": {
      "image/png": "[encoded data removed]",
      "text/plain": [
       "<Figure size 432x288 with 9 Axes>"
      ]
     },
     "metadata": {},
     "output_type": "display_data"
    }
   ],
   "source": [
    "def plot_images(images, y, yhat=None):\n",
    "    assert len(images) == len(y) == 9\n",
    "\n",
    "    # Create figure with 3x3 sub-plots.\n",
    "    fig, axes = plt.subplots(3, 3)\n",
    "    fig.subplots_adjust(hspace=0.3, wspace=0.3)\n",
    "\n",
    "    for i, ax in enumerate(axes.flat):\n",
    "        # Plot image.\n",
    "        ax.imshow(images[i].reshape(img_shape), cmap='binary')\n",
    "\n",
    "        # Show true and predicted classes.\n",
    "        if yhat is None:\n",
    "            xlabel = \"True: {0}\".format(y[i])\n",
    "        else:\n",
    "            xlabel = \"True: {0}, Pred: {1}\".format(y[i], yhat[i])\n",
    "\n",
    "        ax.set_xlabel(xlabel)\n",
    "\n",
    "        # Remove ticks from the plot.\n",
    "        ax.set_xticks([])\n",
    "        ax.set_yticks([])\n",
    "    plt.show()\n",
    "\n",
    "#Get image from test set\n",
    "images = x_test[0:9]\n",
    "\n",
    "# Get the true classes for those images.\n",
    "y = y_test[0:9]\n",
    "\n",
    "# Plot the images and labels using our helper-function above.\n",
    "plot_images(images=images, y=y)\n",
    "\n",
    "\n",
    "#Second plot weights\n",
    "\n",
    "def plot_weights(w=None):\n",
    "    # Get the values for the weights from the TensorFlow variable.\n",
    "    #TO DO ####\n",
    "\n",
    "    # Get the lowest and highest values for the weights.\n",
    "    # This is used to correct the colour intensity across\n",
    "    # the images so they can be compared with each other.\n",
    "    w_min = np.min(w)\n",
    "    #TO DO## obtains these value from W\n",
    "    w_max = np.max(w)\n",
    "\n",
    "    # Create figure with 3x4 sub-plots,\n",
    "    # where the last 2 sub-plots are unused.\n",
    "    fig, axes = plt.subplots(3, 4)\n",
    "    fig.subplots_adjust(hspace=0.3, wspace=0.3)\n",
    "\n",
    "    for i, ax in enumerate(axes.flat):\n",
    "        # Only use the weights for the first 10 sub-plots.\n",
    "        if i<10:\n",
    "            # Get the weights for the i'th digit and reshape it.\n",
    "            # Note that w.shape == (img_size_flat, 10)\n",
    "            image = w[:, i].reshape(img_shape)\n",
    "\n",
    "            # Set the label for the sub-plot.\n",
    "            ax.set_xlabel(\"Weights: {0}\".format(i))\n",
    "\n",
    "            # Plot the image.\n",
    "            ax.imshow(image, vmin=w_min, vmax=w_max, cmap='seismic')\n",
    "\n",
    "        # Remove ticks from each sub-plot.\n",
    "        ax.set_xticks([])\n",
    "        ax.set_yticks([])\n",
    "\n",
    "    # Ensure the plot is shown correctly with multiple plots\n",
    "    # in a single Notebook cell.\n",
    "    plt.show()\n"
   ]
  },
  {
   "cell_type": "code",
   "execution_count": 25,
   "metadata": {},
   "outputs": [
    {
     "data": {
      "image/png": "[encoded data removed]",
      "text/plain": [
       "<Figure size 432x288 with 9 Axes>"
      ]
     },
     "metadata": {},
     "output_type": "display_data"
    }
   ],
   "source": [
    "preds = tf.nn.softmax(tf.matmul(X_test,W)+b)\n",
    "pred_classes = tf.argmax(preds, 1).numpy()[0:9]\n",
    "plot_images(images=images, y=y,yhat=pred_classes)"
   ]
  },
  {
   "cell_type": "code",
   "execution_count": 31,
   "metadata": {},
   "outputs": [
    {
     "data": {
      "image/png": "[encoded data removed]",
      "text/plain": [
       "<Figure size 432x288 with 12 Axes>"
      ]
     },
     "metadata": {},
     "output_type": "display_data"
    }
   ],
   "source": [
    "plot_weights(W.numpy())"
   ]
  },
  {
   "cell_type": "code",
   "execution_count": 84,
   "metadata": {},
   "outputs": [],
   "source": [
    "def plot_clustered_weights(w=None):\n",
    "    from sklearn.cluster import KMeans\n",
    "\n",
    "    fig, axes = plt.subplots(3, 4)\n",
    "    fig.subplots_adjust(hspace=0.3, wspace=0.3)\n",
    "\n",
    "    for i, ax in enumerate(axes.flat):\n",
    "        # Only use the weights for the first 10 sub-plots.\n",
    "        if i<10:\n",
    "            # Get the weights for the i'th digit and reshape it.\n",
    "            # Note that w.shape == (img_size_flat, 10)\n",
    "            image = w[:, i].reshape(-1,1)\n",
    "            kmeans = KMeans(n_clusters=10, random_state=random_seed).fit(image)\n",
    "            # Set the label for the sub-plot.\n",
    "            ax.set_xlabel(\"Clustered: {0}\".format(i))\n",
    "            u=kmeans.predict(image).reshape(img_shape)\n",
    "            # Plot the image.\n",
    "            ax.imshow(u,  cmap='seismic')\n",
    "\n",
    "        # Remove ticks from each sub-plot.\n",
    "        ax.set_xticks([])\n",
    "        ax.set_yticks([])\n",
    "\n",
    "    # Ensure the plot is shown correctly with multiple plots\n",
    "    # in a single Notebook cell.\n",
    "    plt.show()\n"
   ]
  },
  {
   "cell_type": "code",
   "execution_count": 85,
   "metadata": {},
   "outputs": [
    {
     "data": {
      "image/png": "[encoded data removed]",
      "text/plain": [
       "<Figure size 432x288 with 12 Axes>"
      ]
     },
     "metadata": {},
     "output_type": "display_data"
    }
   ],
   "source": [
    "plot_clustered_weights(W.numpy())"
   ]
  },
  {
   "cell_type": "markdown",
   "metadata": {},
   "source": [
    "# Performance over epochs"
   ]
  },
  {
   "cell_type": "code",
   "execution_count": 7,
   "metadata": {},
   "outputs": [
    {
     "name": "stdout",
     "output_type": "stream",
     "text": [
      "\n",
      "Training for 50 epochs:\n",
      "\n",
      "i=49, loss = 0.510748 acc=0.833125 val_acc=0.832500\n",
      "Training for 100 epochs:\n",
      "\n",
      "i=99, loss = 0.466518 acc=0.844271 val_acc=0.844000\n",
      "Training for 200 epochs:\n",
      "\n",
      "i=199, loss = 0.431811 acc=0.853083 val_acc=0.849917\r"
     ]
    }
   ],
   "source": [
    "epoch_choices = [50,100,200]\n",
    "epoch_accs={}\n",
    "for epoch in epoch_choices:\n",
    "    print(f\"\\nTraining for {epoch} epochs:\\n\")\n",
    "    #Step 8: train the model for n_epochs times\n",
    "    W, b = tf.Variable(tf.random.normal([784,10],stddev=0.01)), tf.Variable(tf.zeros([10]))\n",
    "    best_val=-1\n",
    "    best_W = tf.Variable([0])\n",
    "    best_b = tf.Variable([0])\n",
    "    for i in range(epoch):\n",
    "        total_loss = 0\n",
    "        n_batches = n_train//batch_size\n",
    "        #print(W)\n",
    "        for batch in range(n_batches):\n",
    "            indices = np.random.choice(n_train,batch_size)\n",
    "            X_batch = tf.Variable(x_train[indices],dtype=tf.float32)\n",
    "            Y_batch = tf.one_hot(y_train[indices],10)\n",
    "            #Optimize the loss function\n",
    "\n",
    "            ################################\n",
    "            ###TO DO#####\n",
    "            ############\n",
    "\n",
    "            with tf.GradientTape() as tape:\n",
    "\n",
    "                #forward pass \n",
    "                logits = tf.matmul(X_batch, W)+ b\n",
    "                current_loss = tf.reduce_mean(tf.nn.softmax_cross_entropy_with_logits(logits = logits, labels = Y_batch))+0.5 * lamda * tf.reduce_sum(tf.square(W))\n",
    "\n",
    "              #evalute the gradient with the respect to the paramters\n",
    "                dW,db = tape.gradient(current_loss, [ W, b])\n",
    "                #print(dW)\n",
    "            W.assign_sub(dW * learning_rate)\n",
    "            b.assign_sub(db * learning_rate)\n",
    "            total_loss+=current_loss\n",
    "\n",
    "        #train accuracy\n",
    "        logits=tf.matmul(X_train,W)+b\n",
    "        preds = tf.nn.softmax(logits)\n",
    "        correct_preds = tf.equal(tf.argmax(preds, 1), tf.argmax(Y_train, 1))\n",
    "        train_accuracy = tf.reduce_mean(tf.cast(correct_preds, tf.float32))\n",
    "\n",
    "        #val accuracy\n",
    "        logits=tf.matmul(X_val,W)+b\n",
    "        preds = tf.nn.softmax(logits)\n",
    "        correct_preds = tf.equal(tf.argmax(preds, 1), tf.argmax(Y_val, 1))\n",
    "        val_accuracy = tf.reduce_mean(tf.cast(correct_preds, tf.float32))\n",
    "\n",
    "        if val_accuracy >= best_val:\n",
    "            best_val=val_accuracy\n",
    "            best_W = tf.Variable(W)\n",
    "            best_b = tf.Variable(b)\n",
    "        total_loss/=n_batches\n",
    "        print(f\"i={i}, loss = {total_loss:3f} acc={train_accuracy:5f} val_acc={val_accuracy:5f}\",end='\\r')\n",
    "\n",
    "    #test accuracy\n",
    "    logits=tf.matmul(X_test,best_W)+best_b\n",
    "    preds = tf.nn.softmax(logits)\n",
    "    correct_preds = tf.equal(tf.argmax(preds, 1), tf.argmax(Y_test, 1))\n",
    "    test_accuracy = tf.reduce_mean(tf.cast(correct_preds, tf.float32))\n",
    "    epoch_accs[epoch]=(best_val.numpy(),test_accuracy.numpy())\n"
   ]
  },
  {
   "cell_type": "code",
   "execution_count": 9,
   "metadata": {},
   "outputs": [
    {
     "name": "stdout",
     "output_type": "stream",
     "text": [
      "[0.8199, 0.8298, 0.8354]\n"
     ]
    },
    {
     "data": {
      "image/png": "[encoded data removed]",
      "text/plain": [
       "<Figure size 432x288 with 1 Axes>"
      ]
     },
     "metadata": {
      "needs_background": "light"
     },
     "output_type": "display_data"
    }
   ],
   "source": [
    "X=list(epoch_accs.keys())\n",
    "val=[epoch_accs[i][0] for i in X]\n",
    "test=[epoch_accs[i][1] for i in X]\n",
    "print(test)\n",
    "fig, ax = plt.subplots()\n",
    "\n",
    "ind = np.arange(len(X))    # the x locations for the groups\n",
    "width = 0.2         # the width of the bars\n",
    "p1 = ax.bar(ind, val, width, bottom=0)\n",
    "\n",
    "p2 = ax.bar(ind + width, test, width, bottom=0)\n",
    "\n",
    "ax.set_title('Test and val accuracies for various epochs')\n",
    "ax.set_xticks(ind + width / 2)\n",
    "ax.set_xticklabels(tuple([str(each) for each in X]))\n",
    "ax.set( ylim=(0.75, 0.9))\n",
    "\n",
    "ax.legend((p1[0], p2[0]), ('Val', 'Test'))\n",
    "ax.autoscale_view()\n",
    "\n",
    "plt.show()\n"
   ]
  },
  {
   "cell_type": "markdown",
   "metadata": {},
   "source": [
    "# Train-Val split variations"
   ]
  },
  {
   "cell_type": "code",
   "execution_count": 111,
   "metadata": {},
   "outputs": [
    {
     "name": "stdout",
     "output_type": "stream",
     "text": [
      "(10000, 784) (10000,)\n"
     ]
    }
   ],
   "source": [
    "x,y= load_mnist(os.path.join(\"fashion_mnist\",\"data\",\"fashion\"),\"train\")\n",
    "x=x/255.0\n",
    "\n",
    "\n",
    "\n",
    "\n",
    "# create testing Dataset and batch it\n",
    "x_test,y_test = load_mnist(os.path.join(\"fashion_mnist\",\"data\",\"fashion\"),\"t10k\")\n",
    "x_test=x_test/255.0\n",
    "print(x_test.shape,y_test.shape)\n",
    "n_test = x_test.shape[0]\n",
    "\n",
    "#convert data to tf vars\n",
    "X_test  = tf.Variable(x_test,dtype=tf.float32)\n",
    "\n",
    "\n",
    "Y_test  = tf.one_hot(y_test,10)"
   ]
  },
  {
   "cell_type": "code",
   "execution_count": 112,
   "metadata": {},
   "outputs": [
    {
     "name": "stdout",
     "output_type": "stream",
     "text": [
      "\n",
      "Train-val split =0.9/0.1:\n",
      "\n",
      "i=49, loss = 0.502775 acc=0.834407 val_acc=0.837000\n",
      "Train-val split =0.8/0.2:\n",
      "\n",
      "i=49, loss = 0.508616 acc=0.832125 val_acc=0.831917\n",
      "Train-val split =0.6699999999999999/0.33:\n",
      "\n",
      "i=49, loss = 0.527345 acc=0.830100 val_acc=0.825960\n",
      "Train-val split =0.5/0.5:\n",
      "\n",
      "i=49, loss = 0.541402 acc=0.824233 val_acc=0.820933\r"
     ]
    }
   ],
   "source": [
    "val_splits=[0.1,0.2,0.33,0.5]\n",
    "split_accs={}\n",
    "for split in val_splits:\n",
    "    x_train, x_val, y_train, y_val = train_test_split(x, y, test_size=split, random_state=random_seed)\n",
    "    n_train = x_train.shape[0]\n",
    "    #convert data to tf vars\n",
    "    X_train = tf.Variable(x_train,dtype=tf.float32)\n",
    "    X_val   = tf.Variable(x_val,dtype=tf.float32)\n",
    "    Y_train = tf.one_hot(y_train,10)\n",
    "    Y_val   = tf.one_hot(y_val,10)\n",
    "    \n",
    "   \n",
    "    \n",
    "\n",
    "    print(f\"\\nTrain-val split ={1-split}/{split}:\\n\")\n",
    "    #Step 8: train the model for n_epochs times\n",
    "    W, b = tf.Variable(tf.random.normal([784,10],stddev=0.01)), tf.Variable(tf.zeros([10]))\n",
    "    best_val=-1\n",
    "    best_W = tf.Variable([0])\n",
    "    best_b = tf.Variable([0])\n",
    "    for i in range(50):\n",
    "        total_loss = 0\n",
    "        n_batches = n_train//batch_size\n",
    "        #print(W)\n",
    "        for batch in range(n_batches):\n",
    "            indices = np.random.choice(n_train,batch_size)\n",
    "            X_batch = tf.Variable(x_train[indices],dtype=tf.float32)\n",
    "            Y_batch = tf.one_hot(y_train[indices],10)\n",
    "            #Optimize the loss function\n",
    "\n",
    "            ################################\n",
    "            ###TO DO#####\n",
    "            ############\n",
    "\n",
    "            with tf.GradientTape() as tape:\n",
    "\n",
    "                #forward pass \n",
    "                logits = tf.matmul(X_batch, W)+ b\n",
    "                current_loss = tf.reduce_mean(tf.nn.softmax_cross_entropy_with_logits(logits = logits, labels = Y_batch))+0.5 * lamda * tf.reduce_sum(tf.square(W))\n",
    "\n",
    "              #evalute the gradient with the respect to the paramters\n",
    "                dW,db = tape.gradient(current_loss, [ W, b])\n",
    "                #print(dW)\n",
    "            W.assign_sub(dW * learning_rate)\n",
    "            b.assign_sub(db * learning_rate)\n",
    "            total_loss+=current_loss\n",
    "\n",
    "        #train accuracy\n",
    "        logits=tf.matmul(X_train,W)+b\n",
    "        preds = tf.nn.softmax(logits)\n",
    "        correct_preds = tf.equal(tf.argmax(preds, 1), tf.argmax(Y_train, 1))\n",
    "        train_accuracy = tf.reduce_mean(tf.cast(correct_preds, tf.float32))\n",
    "\n",
    "        #val accuracy\n",
    "        logits=tf.matmul(X_val,W)+b\n",
    "        preds = tf.nn.softmax(logits)\n",
    "        correct_preds = tf.equal(tf.argmax(preds, 1), tf.argmax(Y_val, 1))\n",
    "        val_accuracy = tf.reduce_mean(tf.cast(correct_preds, tf.float32))\n",
    "\n",
    "        if val_accuracy >= best_val:\n",
    "            best_val=val_accuracy\n",
    "            best_W = tf.Variable(W)\n",
    "            best_b = tf.Variable(b)\n",
    "        total_loss/=n_batches\n",
    "        print(f\"i={i}, loss = {total_loss:3f} acc={train_accuracy:5f} val_acc={val_accuracy:5f}\",end='\\r')\n",
    "\n",
    "    #test accuracy\n",
    "    logits=tf.matmul(X_test,best_W)+best_b\n",
    "    preds = tf.nn.softmax(logits)\n",
    "    correct_preds = tf.equal(tf.argmax(preds, 1), tf.argmax(Y_test, 1))\n",
    "    test_accuracy = tf.reduce_mean(tf.cast(correct_preds, tf.float32))\n",
    "    split_accs[split]=(best_val.numpy(),test_accuracy.numpy())\n",
    "\n"
   ]
  },
  {
   "cell_type": "code",
   "execution_count": 115,
   "metadata": {},
   "outputs": [
    {
     "data": {
      "image/png": "[encoded data removed]",
      "text/plain": [
       "<Figure size 432x288 with 1 Axes>"
      ]
     },
     "metadata": {
      "needs_background": "light"
     },
     "output_type": "display_data"
    }
   ],
   "source": [
    "X=list(split_accs.keys())\n",
    "val=[split_accs[i][0] for i in X]\n",
    "test=[split_accs[i][1] for i in X]\n",
    "fig, ax = plt.subplots()\n",
    "\n",
    "ind = np.arange(len(X))    # the x locations for the groups\n",
    "width = 0.2         # the width of the bars\n",
    "p1 = ax.bar(ind, val, width, bottom=0)\n",
    "\n",
    "p2 = ax.bar(ind + width, test, width, bottom=0)\n",
    "\n",
    "ax.set_title('Test and val accuracies for various splits')\n",
    "ax.set_xticks(ind + width / 2)\n",
    "ax.set_xticklabels(tuple([str(each) for each in X]))\n",
    "ax.set( ylim=(0.8, 0.9))\n",
    "\n",
    "ax.legend((p1[0], p2[0]), ('Val', 'Test'))\n",
    "ax.autoscale_view()\n",
    "\n",
    "plt.show()"
   ]
  },
  {
   "cell_type": "code",
   "execution_count": 12,
   "metadata": {},
   "outputs": [
    {
     "name": "stdout",
     "output_type": "stream",
     "text": [
      "/cpu:0 took 20.660744667053223 s\n",
      "/gpu:0 took 15.91443395614624 s\n"
     ]
    }
   ],
   "source": [
    "devices = ['/cpu:0','/gpu:0']\n",
    "import time\n",
    "for device in devices:\n",
    "    with tf.device(device):\n",
    "        tic=time.time()\n",
    "        for i in range(10):\n",
    "            total_loss = 0\n",
    "            n_batches = n_train//batch_size\n",
    "            #print(W)\n",
    "            for batch in range(n_batches):\n",
    "                indices = np.random.choice(n_train,batch_size)\n",
    "                X_batch = tf.Variable(x_train[indices],dtype=tf.float32)\n",
    "                Y_batch = tf.one_hot(y_train[indices],10)\n",
    "                #Optimize the loss function\n",
    "\n",
    "                ################################\n",
    "                ###TO DO#####\n",
    "                ############\n",
    "\n",
    "                with tf.GradientTape() as tape:\n",
    "\n",
    "                    #forward pass \n",
    "                    logits = tf.matmul(X_batch, W)+ b\n",
    "                    current_loss = tf.reduce_mean(tf.nn.softmax_cross_entropy_with_logits(logits = logits, labels = Y_batch))+0.5 * lamda * tf.reduce_sum(tf.square(W))\n",
    "\n",
    "                  #evalute the gradient with the respect to the paramters\n",
    "                    dW,db = tape.gradient(current_loss, [ W, b])\n",
    "                    #print(dW)\n",
    "                W.assign_sub(dW * learning_rate)\n",
    "                b.assign_sub(db * learning_rate)\n",
    "                total_loss+=current_loss\n",
    "\n",
    "            #train accuracy\n",
    "            logits=tf.matmul(X_train,W)+b\n",
    "            preds = tf.nn.softmax(logits)\n",
    "            correct_preds = tf.equal(tf.argmax(preds, 1), tf.argmax(Y_train, 1))\n",
    "            train_accuracy = tf.reduce_mean(tf.cast(correct_preds, tf.float32))\n",
    "\n",
    "            #val accuracy\n",
    "            logits=tf.matmul(X_val,W)+b\n",
    "            preds = tf.nn.softmax(logits)\n",
    "            correct_preds = tf.equal(tf.argmax(preds, 1), tf.argmax(Y_val, 1))\n",
    "            val_accuracy = tf.reduce_mean(tf.cast(correct_preds, tf.float32))\n",
    "            \n",
    "        toc=time.time()\n",
    "        print(f\"{device} took {toc-tic} s\")"
   ]
  }
 ],
 "metadata": {
  "kernelspec": {
   "display_name": "Python 3",
   "language": "python",
   "name": "python3"
  },
  "language_info": {
   "codemirror_mode": {
    "name": "ipython",
    "version": 3
   },
   "file_extension": ".py",
   "mimetype": "text/x-python",
   "name": "python",
   "nbconvert_exporter": "python",
   "pygments_lexer": "ipython3",
   "version": "3.7.4"
  }
 },
 "nbformat": 4,
 "nbformat_minor": 2
}
